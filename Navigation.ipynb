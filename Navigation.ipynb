{
 "cells": [
  {
   "cell_type": "markdown",
   "metadata": {},
   "source": [
    "# Navigation\n",
    "\n",
    "---\n",
    "\n",
    "In this notebook, you will learn how to use the Unity ML-Agents environment for the first project of the [Deep Reinforcement Learning Nanodegree](https://www.udacity.com/course/deep-reinforcement-learning-nanodegree--nd893).\n",
    "\n",
    "### 1. Start the Environment\n",
    "\n",
    "We begin by importing some necessary packages.  If the code cell below returns an error, please revisit the project instructions to double-check that you have installed [Unity ML-Agents](https://github.com/Unity-Technologies/ml-agents/blob/master/docs/Installation.md) and [NumPy](http://www.numpy.org/)."
   ]
  },
  {
   "cell_type": "code",
   "execution_count": 1,
   "metadata": {},
   "outputs": [
    {
     "ename": "ModuleNotFoundError",
     "evalue": "No module named 'unityagents'",
     "output_type": "error",
     "traceback": [
      "\u001b[0;31m---------------------------------------------------------------------------\u001b[0m",
      "\u001b[0;31mModuleNotFoundError\u001b[0m                       Traceback (most recent call last)",
      "\u001b[0;32m<ipython-input-1-73b79e681e03>\u001b[0m in \u001b[0;36m<module>\u001b[0;34m\u001b[0m\n\u001b[0;32m----> 1\u001b[0;31m \u001b[0;32mfrom\u001b[0m \u001b[0munityagents\u001b[0m \u001b[0;32mimport\u001b[0m \u001b[0mUnityEnvironment\u001b[0m\u001b[0;34m\u001b[0m\u001b[0;34m\u001b[0m\u001b[0m\n\u001b[0m\u001b[1;32m      2\u001b[0m \u001b[0;32mimport\u001b[0m \u001b[0mnumpy\u001b[0m \u001b[0;32mas\u001b[0m \u001b[0mnp\u001b[0m\u001b[0;34m\u001b[0m\u001b[0;34m\u001b[0m\u001b[0m\n\u001b[1;32m      3\u001b[0m \u001b[0;32mfrom\u001b[0m \u001b[0mtqdm\u001b[0m \u001b[0;32mimport\u001b[0m \u001b[0mtqdm\u001b[0m\u001b[0;34m\u001b[0m\u001b[0;34m\u001b[0m\u001b[0m\n\u001b[1;32m      4\u001b[0m \u001b[0;32mimport\u001b[0m \u001b[0mos\u001b[0m\u001b[0;34m\u001b[0m\u001b[0;34m\u001b[0m\u001b[0m\n\u001b[1;32m      5\u001b[0m \u001b[0;32mfrom\u001b[0m \u001b[0mtime\u001b[0m \u001b[0;32mimport\u001b[0m \u001b[0mtime\u001b[0m\u001b[0;34m\u001b[0m\u001b[0;34m\u001b[0m\u001b[0m\n",
      "\u001b[0;31mModuleNotFoundError\u001b[0m: No module named 'unityagents'"
     ]
    }
   ],
   "source": [
    "from unityagents import UnityEnvironment\n",
    "import numpy as np\n",
    "from tqdm import tqdm\n",
    "import os\n",
    "from time import time\n",
    "from datetime import datetime\n",
    "import json\n",
    "\n",
    "import matplotlib.pyplot as plt\n",
    "%matplotlib inline\n",
    "%config InlineBackend.figure_format = 'retina'\n",
    "\n",
    "%load_ext autoreload\n",
    "%autoreload 2\n",
    "\n",
    "# Lots of code in misc\n",
    "from misc import *"
   ]
  },
  {
   "cell_type": "markdown",
   "metadata": {},
   "source": [
    "Next, we will start the environment!  **_Before running the code cell below_**, change the `file_name` parameter to match the location of the Unity environment that you downloaded.\n",
    "\n",
    "- **Mac**: `\"path/to/Banana.app\"`\n",
    "- **Windows** (x86): `\"path/to/Banana_Windows_x86/Banana.exe\"`\n",
    "- **Windows** (x86_64): `\"path/to/Banana_Windows_x86_64/Banana.exe\"`\n",
    "- **Linux** (x86): `\"path/to/Banana_Linux/Banana.x86\"`\n",
    "- **Linux** (x86_64): `\"path/to/Banana_Linux/Banana.x86_64\"`\n",
    "- **Linux** (x86, headless): `\"path/to/Banana_Linux_NoVis/Banana.x86\"`\n",
    "- **Linux** (x86_64, headless): `\"path/to/Banana_Linux_NoVis/Banana.x86_64\"`\n",
    "\n",
    "For instance, if you are using a Mac, then you downloaded `Banana.app`.  If this file is in the same folder as the notebook, then the line below should appear as follows:\n",
    "```\n",
    "env = UnityEnvironment(file_name=\"Banana.app\")\n",
    "```"
   ]
  },
  {
   "cell_type": "code",
   "execution_count": null,
   "metadata": {},
   "outputs": [],
   "source": [
    "env = UnityEnvironment(no_graphics=True, file_name=\"./Banana_Linux/Banana.x86_64\")"
   ]
  },
  {
   "cell_type": "markdown",
   "metadata": {},
   "source": [
    "Environments contain **_brains_** which are responsible for deciding the actions of their associated agents. Here we check for the first brain available, and set it as the default brain we will be controlling from Python."
   ]
  },
  {
   "cell_type": "code",
   "execution_count": null,
   "metadata": {},
   "outputs": [],
   "source": [
    "# get the default brain\n",
    "brain_name = env.brain_names[0]\n",
    "brain = env.brains[brain_name]"
   ]
  },
  {
   "cell_type": "markdown",
   "metadata": {},
   "source": [
    "### 2. Examine the State and Action Spaces\n",
    "\n",
    "The simulation contains a single agent that navigates a large environment.  At each time step, it has four actions at its disposal:\n",
    "- `0` - walk forward \n",
    "- `1` - walk backward\n",
    "- `2` - turn left\n",
    "- `3` - turn right\n",
    "\n",
    "The state space has `37` dimensions and contains the agent's velocity, along with ray-based perception of objects around agent's forward direction.  A reward of `+1` is provided for collecting a yellow banana, and a reward of `-1` is provided for collecting a blue banana. \n",
    "\n",
    "Run the code cell below to print some information about the environment."
   ]
  },
  {
   "cell_type": "code",
   "execution_count": null,
   "metadata": {},
   "outputs": [],
   "source": [
    "# reset the environment\n",
    "env_info = env.reset(train_mode=True)[brain_name]\n",
    "\n",
    "# number of agents in the environment\n",
    "print('Number of agents:', len(env_info.agents))\n",
    "\n",
    "# number of actions\n",
    "action_size = brain.vector_action_space_size\n",
    "print('Number of actions:', action_size)\n",
    "\n",
    "# examine the state space \n",
    "state = env_info.vector_observations[0]\n",
    "print('States look like:', state)\n",
    "state_size = len(state)\n",
    "print('States have length:', state_size)"
   ]
  },
  {
   "cell_type": "markdown",
   "metadata": {},
   "source": [
    "### 3. Take Random Actions in the Environment\n",
    "\n",
    "In the next code cell, you will learn how to use the Python API to control the agent and receive feedback from the environment.\n",
    "\n",
    "Once this cell is executed, you will watch the agent's performance, if it selects an action (uniformly) at random with each time step.  A window should pop up that allows you to observe the agent, as it moves through the environment.  \n",
    "\n",
    "Of course, as part of the project, you'll have to change the code so that the agent is able to use its experience to gradually choose better actions when interacting with the environment!"
   ]
  },
  {
   "cell_type": "code",
   "execution_count": null,
   "metadata": {},
   "outputs": [],
   "source": [
    "env_info = env.reset(train_mode=False)[brain_name] # reset the environment\n",
    "state = env_info.vector_observations[0]            # get the current state\n",
    "score = 0                                          # initialize the score\n",
    "while 0:\n",
    "    action = np.random.randint(action_size)        # select an action\n",
    "    env_info = env.step(action)[brain_name]        # send the action to the environment\n",
    "    next_state = env_info.vector_observations[0]   # get the next state\n",
    "    reward = env_info.rewards[0]                   # get the reward\n",
    "    done = env_info.local_done[0]                  # see if episode has finished\n",
    "    score += reward                                # update the score\n",
    "    state = next_state                             # roll over the state to next time step\n",
    "    print(action)\n",
    "    if done:                                       # exit loop if episode finished\n",
    "        break    \n",
    "    print(\"Score: {}\".format(score))"
   ]
  },
  {
   "cell_type": "code",
   "execution_count": null,
   "metadata": {},
   "outputs": [],
   "source": [
    "# Set some useful parameters, including the seeds used for the test\n",
    "solved_score = 13\n",
    "n_episodes = 600\n",
    "n_rpt = 10\n",
    "seeds_path = \"seeds.np\"\n",
    "device = check_cuda(0)\n",
    "\n",
    "# We'll need a folder to save all the trained models so we don't have to retrain each time we run the code\n",
    "if not os.path.isdir(\"./temp\"):\n",
    "    os.mkdir(\"./temp\")\n",
    "\n",
    "# We want the same seeds, just in case we run the notebook again and want to re-use old results\n",
    "if os.path.isfile(seeds_path):\n",
    "    print(\"Using saved random seeds from {}\".format(seeds_path))\n",
    "    seeds = np.loadtxt(seeds_path, dtype=np.int32)\n",
    "else:\n",
    "    seeds = np.random.randint(0,1e4, size=(n_rpt))\n",
    "    np.savetxt(seeds_path, seeds, fmt=\"%d\")"
   ]
  },
  {
   "cell_type": "code",
   "execution_count": null,
   "metadata": {
    "scrolled": false
   },
   "outputs": [],
   "source": [
    "from dqn_agent import Agent\n",
    "\n",
    "arch_names = [\"DQN\",\"DoubleDQN\"]\n",
    "arch_params = {\"DQN\": {\"double\": False}, \"DoubleDQN\": {\"double\": True}}\n",
    "\n",
    "all_scores = np.zeros((n_rpt, len(arch_names), n_episodes))\n",
    "\n",
    "for i, arch in enumerate(arch_names):\n",
    "    for j, seed in enumerate(seeds):\n",
    "        t_start = time()\n",
    "        # First we check if we already trained this agent or not\n",
    "        save_path = get_model_save_path(arch, n_episodes, seed)\n",
    "        if not os.path.isfile(save_path):\n",
    "            print(\"Architecture {} seed {} started at {}\".format(i+1, j+1, datetime.now()), end=\"\")\n",
    "            # Initialize a new agent with the corresponding random (but presaved) seed\n",
    "            agent = Agent(device, state_size=state_size, action_size=action_size, \n",
    "                                  seed=seed, double=arch_params[arch][\"double\"])\n",
    "            \n",
    "            # Run DQN\n",
    "            agent, scores, solved_in = dqn(agent, env, solved_score, \n",
    "                                                   n_episodes=n_episodes, verbose=False)\n",
    "            \n",
    "            # Save model and performance figures\n",
    "            torch.save(agent.qnetwork_local.state_dict(), save_path)\n",
    "            np.savetxt(get_scores_save_path(arch, n_episodes, seed), scores, fmt=\"%f\")\n",
    "            print(\"... DONE in {:.3f} s\".format(time() - t_start))\n",
    "        else:\n",
    "            # If we trained the agent, let's load the results\n",
    "            print(\"Loading architecture {} seed {} from file\".format(i+1, j+1))\n",
    "            all_scores[j, i] = np.loadtxt(get_scores_save_path(arch, n_episodes, seed), dtype=np.float64)\n",
    "            \n",
    "        \n"
   ]
  },
  {
   "cell_type": "code",
   "execution_count": null,
   "metadata": {},
   "outputs": [],
   "source": [
    "smoothed = smooth_scores(all_scores)\n",
    "\n",
    "cmap = plt.cm.get_cmap(\"jet\", len(arch_names))\n",
    "x = np.arange(1, n_episodes+1)\n",
    "fig, ax = plt.subplots(1)\n",
    "for i, arch in enumerate(arch_names):\n",
    "    mu1 = np.mean(smoothed[:,i,:], axis=0)\n",
    "    sigma1 = np.std(smoothed[:,i,:], axis=0)\n",
    "    ax.plot(x, mu1, lw=2, label=arch, color=cmap(i))\n",
    "    ax.fill_between(x, mu1+sigma1, mu1-sigma1, facecolor=cmap(i), alpha=0.5)\n",
    "\n",
    "ax.set_title(\"Average score\")\n",
    "ax.legend(loc='upper left')\n",
    "ax.set_xlabel('episode #')\n",
    "ax.set_ylabel('Average score');"
   ]
  },
  {
   "cell_type": "markdown",
   "metadata": {},
   "source": [
    "We can see double DQN performing on par with the vanilla version here. This is not what I expected but it's possible. In the original [double DQN paper](https://arxiv.org/abs/1509.06461) there were a few Atari games in which vanilla DQN actually performed better, for instance Chopper Command, Time Pilot, Robotank, and Assault. "
   ]
  },
  {
   "cell_type": "code",
   "execution_count": null,
   "metadata": {},
   "outputs": [],
   "source": [
    "env.close()"
   ]
  }
 ],
 "metadata": {
  "kernelspec": {
   "display_name": "Python 3",
   "language": "python",
   "name": "python3"
  },
  "language_info": {
   "codemirror_mode": {
    "name": "ipython",
    "version": 3
   },
   "file_extension": ".py",
   "mimetype": "text/x-python",
   "name": "python",
   "nbconvert_exporter": "python",
   "pygments_lexer": "ipython3",
   "version": "3.7.3"
  }
 },
 "nbformat": 4,
 "nbformat_minor": 2
}
